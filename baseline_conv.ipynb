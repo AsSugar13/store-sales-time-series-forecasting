{
 "cells": [
  {
   "cell_type": "markdown",
   "id": "bf6e4a7a-575f-4ef7-8ee0-79e41a5ce9dc",
   "metadata": {
    "jp-MarkdownHeadingCollapsed": true,
    "tags": []
   },
   "source": [
    "#### Imports"
   ]
  },
  {
   "cell_type": "code",
   "execution_count": 1,
   "id": "059a1563-8f48-4898-b030-b000d5cd52f5",
   "metadata": {},
   "outputs": [],
   "source": [
    "import numpy as np\n",
    "import pandas as pd\n",
    "import math\n",
    "\n",
    "from tqdm.auto import tqdm\n",
    "from sklearn.preprocessing import OrdinalEncoder\n",
    "import torch\n",
    "from torch import nn\n",
    "from torch import optim\n",
    "import torch.nn.functional as F\n",
    "from torch.utils.data import Dataset, DataLoader\n",
    "\n",
    "import warnings\n",
    "warnings.filterwarnings(\"ignore\")\n",
    "\n",
    "device = torch.device(\"cuda\" if torch.cuda.is_available() else \"cpu\")"
   ]
  },
  {
   "cell_type": "markdown",
   "id": "475ff70b-ac61-451b-9c49-8ac616c0c194",
   "metadata": {
    "jp-MarkdownHeadingCollapsed": true,
    "tags": []
   },
   "source": [
    "#### Data preprocessing"
   ]
  },
  {
   "cell_type": "code",
   "execution_count": 2,
   "id": "3a81480d-5843-4aac-ac31-0eef0062d23d",
   "metadata": {},
   "outputs": [
    {
     "data": {
      "text/html": [
       "<div>\n",
       "<style scoped>\n",
       "    .dataframe tbody tr th:only-of-type {\n",
       "        vertical-align: middle;\n",
       "    }\n",
       "\n",
       "    .dataframe tbody tr th {\n",
       "        vertical-align: top;\n",
       "    }\n",
       "\n",
       "    .dataframe thead th {\n",
       "        text-align: right;\n",
       "    }\n",
       "</style>\n",
       "<table border=\"1\" class=\"dataframe\">\n",
       "  <thead>\n",
       "    <tr style=\"text-align: right;\">\n",
       "      <th></th>\n",
       "      <th>date</th>\n",
       "      <th>store_nbr</th>\n",
       "      <th>family</th>\n",
       "      <th>sales</th>\n",
       "      <th>onpromotion</th>\n",
       "    </tr>\n",
       "    <tr>\n",
       "      <th>id</th>\n",
       "      <th></th>\n",
       "      <th></th>\n",
       "      <th></th>\n",
       "      <th></th>\n",
       "      <th></th>\n",
       "    </tr>\n",
       "  </thead>\n",
       "  <tbody>\n",
       "    <tr>\n",
       "      <th>0</th>\n",
       "      <td>2013-01-01</td>\n",
       "      <td>1</td>\n",
       "      <td>AUTOMOTIVE</td>\n",
       "      <td>0.0</td>\n",
       "      <td>0</td>\n",
       "    </tr>\n",
       "    <tr>\n",
       "      <th>1</th>\n",
       "      <td>2013-01-01</td>\n",
       "      <td>1</td>\n",
       "      <td>BABY CARE</td>\n",
       "      <td>0.0</td>\n",
       "      <td>0</td>\n",
       "    </tr>\n",
       "    <tr>\n",
       "      <th>2</th>\n",
       "      <td>2013-01-01</td>\n",
       "      <td>1</td>\n",
       "      <td>BEAUTY</td>\n",
       "      <td>0.0</td>\n",
       "      <td>0</td>\n",
       "    </tr>\n",
       "    <tr>\n",
       "      <th>3</th>\n",
       "      <td>2013-01-01</td>\n",
       "      <td>1</td>\n",
       "      <td>BEVERAGES</td>\n",
       "      <td>0.0</td>\n",
       "      <td>0</td>\n",
       "    </tr>\n",
       "    <tr>\n",
       "      <th>4</th>\n",
       "      <td>2013-01-01</td>\n",
       "      <td>1</td>\n",
       "      <td>BOOKS</td>\n",
       "      <td>0.0</td>\n",
       "      <td>0</td>\n",
       "    </tr>\n",
       "  </tbody>\n",
       "</table>\n",
       "</div>"
      ],
      "text/plain": [
       "         date  store_nbr      family  sales  onpromotion\n",
       "id                                                      \n",
       "0  2013-01-01          1  AUTOMOTIVE    0.0            0\n",
       "1  2013-01-01          1   BABY CARE    0.0            0\n",
       "2  2013-01-01          1      BEAUTY    0.0            0\n",
       "3  2013-01-01          1   BEVERAGES    0.0            0\n",
       "4  2013-01-01          1       BOOKS    0.0            0"
      ]
     },
     "metadata": {},
     "output_type": "display_data"
    }
   ],
   "source": [
    "train = pd.read_csv('train.csv', parse_dates=['date'], index_col='id')\n",
    "display(train.head())"
   ]
  },
  {
   "cell_type": "code",
   "execution_count": 3,
   "id": "80497bf2-fec7-4ad0-bfb8-984b481eec59",
   "metadata": {},
   "outputs": [
    {
     "data": {
      "text/html": [
       "<div>\n",
       "<style scoped>\n",
       "    .dataframe tbody tr th:only-of-type {\n",
       "        vertical-align: middle;\n",
       "    }\n",
       "\n",
       "    .dataframe tbody tr th {\n",
       "        vertical-align: top;\n",
       "    }\n",
       "\n",
       "    .dataframe thead th {\n",
       "        text-align: right;\n",
       "    }\n",
       "</style>\n",
       "<table border=\"1\" class=\"dataframe\">\n",
       "  <thead>\n",
       "    <tr style=\"text-align: right;\">\n",
       "      <th></th>\n",
       "      <th>city</th>\n",
       "      <th>state</th>\n",
       "      <th>type</th>\n",
       "      <th>cluster</th>\n",
       "    </tr>\n",
       "    <tr>\n",
       "      <th>store_nbr</th>\n",
       "      <th></th>\n",
       "      <th></th>\n",
       "      <th></th>\n",
       "      <th></th>\n",
       "    </tr>\n",
       "  </thead>\n",
       "  <tbody>\n",
       "    <tr>\n",
       "      <th>1</th>\n",
       "      <td>18</td>\n",
       "      <td>12</td>\n",
       "      <td>3</td>\n",
       "      <td>12</td>\n",
       "    </tr>\n",
       "    <tr>\n",
       "      <th>2</th>\n",
       "      <td>18</td>\n",
       "      <td>12</td>\n",
       "      <td>3</td>\n",
       "      <td>12</td>\n",
       "    </tr>\n",
       "    <tr>\n",
       "      <th>3</th>\n",
       "      <td>18</td>\n",
       "      <td>12</td>\n",
       "      <td>3</td>\n",
       "      <td>7</td>\n",
       "    </tr>\n",
       "    <tr>\n",
       "      <th>4</th>\n",
       "      <td>18</td>\n",
       "      <td>12</td>\n",
       "      <td>3</td>\n",
       "      <td>8</td>\n",
       "    </tr>\n",
       "    <tr>\n",
       "      <th>5</th>\n",
       "      <td>21</td>\n",
       "      <td>14</td>\n",
       "      <td>3</td>\n",
       "      <td>3</td>\n",
       "    </tr>\n",
       "  </tbody>\n",
       "</table>\n",
       "</div>"
      ],
      "text/plain": [
       "           city  state  type  cluster\n",
       "store_nbr                            \n",
       "1            18     12     3       12\n",
       "2            18     12     3       12\n",
       "3            18     12     3        7\n",
       "4            18     12     3        8\n",
       "5            21     14     3        3"
      ]
     },
     "metadata": {},
     "output_type": "display_data"
    }
   ],
   "source": [
    "stores = pd.read_csv('stores.csv', index_col='store_nbr')\n",
    "encoder = OrdinalEncoder(dtype=np.int64)\n",
    "cats = ['city', 'state', 'type', 'cluster']\n",
    "stores[cats] = encoder.fit_transform(stores[cats])\n",
    "display(stores.head())"
   ]
  },
  {
   "cell_type": "code",
   "execution_count": 4,
   "id": "63e02170-2bbd-47c2-bac6-b5437eafbdbb",
   "metadata": {},
   "outputs": [
    {
     "name": "stdout",
     "output_type": "stream",
     "text": [
      "<class 'pandas.core.frame.DataFrame'>\n",
      "Int64Index: 3000888 entries, 0 to 3000887\n",
      "Data columns (total 5 columns):\n",
      " #   Column       Dtype         \n",
      "---  ------       -----         \n",
      " 0   date         datetime64[ns]\n",
      " 1   store_nbr    int64         \n",
      " 2   family       object        \n",
      " 3   sales        float64       \n",
      " 4   onpromotion  int64         \n",
      "dtypes: datetime64[ns](1), float64(1), int64(2), object(1)\n",
      "memory usage: 137.4+ MB\n"
     ]
    },
    {
     "data": {
      "text/plain": [
       "None"
      ]
     },
     "metadata": {},
     "output_type": "display_data"
    },
    {
     "data": {
      "text/html": [
       "<div>\n",
       "<style scoped>\n",
       "    .dataframe tbody tr th:only-of-type {\n",
       "        vertical-align: middle;\n",
       "    }\n",
       "\n",
       "    .dataframe tbody tr th {\n",
       "        vertical-align: top;\n",
       "    }\n",
       "\n",
       "    .dataframe thead th {\n",
       "        text-align: right;\n",
       "    }\n",
       "</style>\n",
       "<table border=\"1\" class=\"dataframe\">\n",
       "  <thead>\n",
       "    <tr style=\"text-align: right;\">\n",
       "      <th></th>\n",
       "      <th>store_nbr</th>\n",
       "      <th>sales</th>\n",
       "      <th>onpromotion</th>\n",
       "    </tr>\n",
       "  </thead>\n",
       "  <tbody>\n",
       "    <tr>\n",
       "      <th>count</th>\n",
       "      <td>3.000888e+06</td>\n",
       "      <td>3.000888e+06</td>\n",
       "      <td>3.000888e+06</td>\n",
       "    </tr>\n",
       "    <tr>\n",
       "      <th>mean</th>\n",
       "      <td>2.750000e+01</td>\n",
       "      <td>3.577757e+02</td>\n",
       "      <td>2.602770e+00</td>\n",
       "    </tr>\n",
       "    <tr>\n",
       "      <th>std</th>\n",
       "      <td>1.558579e+01</td>\n",
       "      <td>1.101998e+03</td>\n",
       "      <td>1.221888e+01</td>\n",
       "    </tr>\n",
       "    <tr>\n",
       "      <th>min</th>\n",
       "      <td>1.000000e+00</td>\n",
       "      <td>0.000000e+00</td>\n",
       "      <td>0.000000e+00</td>\n",
       "    </tr>\n",
       "    <tr>\n",
       "      <th>25%</th>\n",
       "      <td>1.400000e+01</td>\n",
       "      <td>0.000000e+00</td>\n",
       "      <td>0.000000e+00</td>\n",
       "    </tr>\n",
       "    <tr>\n",
       "      <th>50%</th>\n",
       "      <td>2.750000e+01</td>\n",
       "      <td>1.100000e+01</td>\n",
       "      <td>0.000000e+00</td>\n",
       "    </tr>\n",
       "    <tr>\n",
       "      <th>75%</th>\n",
       "      <td>4.100000e+01</td>\n",
       "      <td>1.958473e+02</td>\n",
       "      <td>0.000000e+00</td>\n",
       "    </tr>\n",
       "    <tr>\n",
       "      <th>max</th>\n",
       "      <td>5.400000e+01</td>\n",
       "      <td>1.247170e+05</td>\n",
       "      <td>7.410000e+02</td>\n",
       "    </tr>\n",
       "  </tbody>\n",
       "</table>\n",
       "</div>"
      ],
      "text/plain": [
       "          store_nbr         sales   onpromotion\n",
       "count  3.000888e+06  3.000888e+06  3.000888e+06\n",
       "mean   2.750000e+01  3.577757e+02  2.602770e+00\n",
       "std    1.558579e+01  1.101998e+03  1.221888e+01\n",
       "min    1.000000e+00  0.000000e+00  0.000000e+00\n",
       "25%    1.400000e+01  0.000000e+00  0.000000e+00\n",
       "50%    2.750000e+01  1.100000e+01  0.000000e+00\n",
       "75%    4.100000e+01  1.958473e+02  0.000000e+00\n",
       "max    5.400000e+01  1.247170e+05  7.410000e+02"
      ]
     },
     "metadata": {},
     "output_type": "display_data"
    },
    {
     "data": {
      "text/plain": [
       "date           0\n",
       "store_nbr      0\n",
       "family         0\n",
       "sales          0\n",
       "onpromotion    0\n",
       "dtype: int64"
      ]
     },
     "metadata": {},
     "output_type": "display_data"
    },
    {
     "data": {
      "text/html": [
       "<div>\n",
       "<style scoped>\n",
       "    .dataframe tbody tr th:only-of-type {\n",
       "        vertical-align: middle;\n",
       "    }\n",
       "\n",
       "    .dataframe tbody tr th {\n",
       "        vertical-align: top;\n",
       "    }\n",
       "\n",
       "    .dataframe thead th {\n",
       "        text-align: right;\n",
       "    }\n",
       "</style>\n",
       "<table border=\"1\" class=\"dataframe\">\n",
       "  <thead>\n",
       "    <tr style=\"text-align: right;\">\n",
       "      <th></th>\n",
       "      <th>date</th>\n",
       "      <th>store_nbr</th>\n",
       "      <th>family</th>\n",
       "      <th>sales</th>\n",
       "      <th>onpromotion</th>\n",
       "    </tr>\n",
       "    <tr>\n",
       "      <th>id</th>\n",
       "      <th></th>\n",
       "      <th></th>\n",
       "      <th></th>\n",
       "      <th></th>\n",
       "      <th></th>\n",
       "    </tr>\n",
       "  </thead>\n",
       "  <tbody>\n",
       "    <tr>\n",
       "      <th>0</th>\n",
       "      <td>2013-01-01</td>\n",
       "      <td>1</td>\n",
       "      <td>AUTOMOTIVE</td>\n",
       "      <td>0.0</td>\n",
       "      <td>0</td>\n",
       "    </tr>\n",
       "    <tr>\n",
       "      <th>1</th>\n",
       "      <td>2013-01-01</td>\n",
       "      <td>1</td>\n",
       "      <td>BABY CARE</td>\n",
       "      <td>0.0</td>\n",
       "      <td>0</td>\n",
       "    </tr>\n",
       "    <tr>\n",
       "      <th>2</th>\n",
       "      <td>2013-01-01</td>\n",
       "      <td>1</td>\n",
       "      <td>BEAUTY</td>\n",
       "      <td>0.0</td>\n",
       "      <td>0</td>\n",
       "    </tr>\n",
       "    <tr>\n",
       "      <th>3</th>\n",
       "      <td>2013-01-01</td>\n",
       "      <td>1</td>\n",
       "      <td>BEVERAGES</td>\n",
       "      <td>0.0</td>\n",
       "      <td>0</td>\n",
       "    </tr>\n",
       "    <tr>\n",
       "      <th>4</th>\n",
       "      <td>2013-01-01</td>\n",
       "      <td>1</td>\n",
       "      <td>BOOKS</td>\n",
       "      <td>0.0</td>\n",
       "      <td>0</td>\n",
       "    </tr>\n",
       "  </tbody>\n",
       "</table>\n",
       "</div>"
      ],
      "text/plain": [
       "         date  store_nbr      family  sales  onpromotion\n",
       "id                                                      \n",
       "0  2013-01-01          1  AUTOMOTIVE    0.0            0\n",
       "1  2013-01-01          1   BABY CARE    0.0            0\n",
       "2  2013-01-01          1      BEAUTY    0.0            0\n",
       "3  2013-01-01          1   BEVERAGES    0.0            0\n",
       "4  2013-01-01          1       BOOKS    0.0            0"
      ]
     },
     "metadata": {},
     "output_type": "display_data"
    }
   ],
   "source": [
    "display(train.info())\n",
    "display(train.describe())\n",
    "display(train.isna().sum())\n",
    "display(train.head())"
   ]
  },
  {
   "cell_type": "code",
   "execution_count": 5,
   "id": "6cc74dfe-db5f-4b4f-b3f1-f1501e6dd618",
   "metadata": {},
   "outputs": [],
   "source": [
    "# labeling \"family\"\n",
    "mapping = {value:key for key, value in enumerate(train.family.unique())}\n",
    "inv_mapping = {key:value for key, value in enumerate(train.family.unique())}\n",
    "\n",
    "train['family'].replace(to_replace=mapping, inplace=True)"
   ]
  },
  {
   "cell_type": "code",
   "execution_count": 6,
   "id": "60b8e588-fa97-4fbf-a8a7-a20c1256c6fc",
   "metadata": {},
   "outputs": [
    {
     "data": {
      "text/html": [
       "<div>\n",
       "<style scoped>\n",
       "    .dataframe tbody tr th:only-of-type {\n",
       "        vertical-align: middle;\n",
       "    }\n",
       "\n",
       "    .dataframe tbody tr th {\n",
       "        vertical-align: top;\n",
       "    }\n",
       "\n",
       "    .dataframe thead th {\n",
       "        text-align: right;\n",
       "    }\n",
       "</style>\n",
       "<table border=\"1\" class=\"dataframe\">\n",
       "  <thead>\n",
       "    <tr style=\"text-align: right;\">\n",
       "      <th></th>\n",
       "      <th>date</th>\n",
       "      <th>store_nbr</th>\n",
       "      <th>family</th>\n",
       "      <th>sales</th>\n",
       "      <th>onpromotion</th>\n",
       "      <th>city</th>\n",
       "      <th>state</th>\n",
       "      <th>type</th>\n",
       "      <th>cluster</th>\n",
       "    </tr>\n",
       "  </thead>\n",
       "  <tbody>\n",
       "    <tr>\n",
       "      <th>0</th>\n",
       "      <td>2013-01-01</td>\n",
       "      <td>1</td>\n",
       "      <td>0</td>\n",
       "      <td>0.0</td>\n",
       "      <td>0</td>\n",
       "      <td>18</td>\n",
       "      <td>12</td>\n",
       "      <td>3</td>\n",
       "      <td>12</td>\n",
       "    </tr>\n",
       "    <tr>\n",
       "      <th>1</th>\n",
       "      <td>2013-01-01</td>\n",
       "      <td>1</td>\n",
       "      <td>1</td>\n",
       "      <td>0.0</td>\n",
       "      <td>0</td>\n",
       "      <td>18</td>\n",
       "      <td>12</td>\n",
       "      <td>3</td>\n",
       "      <td>12</td>\n",
       "    </tr>\n",
       "    <tr>\n",
       "      <th>2</th>\n",
       "      <td>2013-01-01</td>\n",
       "      <td>1</td>\n",
       "      <td>2</td>\n",
       "      <td>0.0</td>\n",
       "      <td>0</td>\n",
       "      <td>18</td>\n",
       "      <td>12</td>\n",
       "      <td>3</td>\n",
       "      <td>12</td>\n",
       "    </tr>\n",
       "    <tr>\n",
       "      <th>3</th>\n",
       "      <td>2013-01-01</td>\n",
       "      <td>1</td>\n",
       "      <td>3</td>\n",
       "      <td>0.0</td>\n",
       "      <td>0</td>\n",
       "      <td>18</td>\n",
       "      <td>12</td>\n",
       "      <td>3</td>\n",
       "      <td>12</td>\n",
       "    </tr>\n",
       "    <tr>\n",
       "      <th>4</th>\n",
       "      <td>2013-01-01</td>\n",
       "      <td>1</td>\n",
       "      <td>4</td>\n",
       "      <td>0.0</td>\n",
       "      <td>0</td>\n",
       "      <td>18</td>\n",
       "      <td>12</td>\n",
       "      <td>3</td>\n",
       "      <td>12</td>\n",
       "    </tr>\n",
       "  </tbody>\n",
       "</table>\n",
       "</div>"
      ],
      "text/plain": [
       "        date  store_nbr  family  sales  onpromotion  city  state  type  \\\n",
       "0 2013-01-01          1       0    0.0            0    18     12     3   \n",
       "1 2013-01-01          1       1    0.0            0    18     12     3   \n",
       "2 2013-01-01          1       2    0.0            0    18     12     3   \n",
       "3 2013-01-01          1       3    0.0            0    18     12     3   \n",
       "4 2013-01-01          1       4    0.0            0    18     12     3   \n",
       "\n",
       "   cluster  \n",
       "0       12  \n",
       "1       12  \n",
       "2       12  \n",
       "3       12  \n",
       "4       12  "
      ]
     },
     "execution_count": 6,
     "metadata": {},
     "output_type": "execute_result"
    }
   ],
   "source": [
    "# merging main df with categories\n",
    "train = train.merge(stores, how='left', right_on='store_nbr', left_on='store_nbr')\n",
    "train.head()"
   ]
  },
  {
   "cell_type": "markdown",
   "id": "ea2172b8-5536-460e-9e0d-d272650fa1ee",
   "metadata": {
    "jp-MarkdownHeadingCollapsed": true,
    "tags": []
   },
   "source": [
    "#### Datasets and model classes"
   ]
  },
  {
   "cell_type": "code",
   "execution_count": 7,
   "id": "d4e44981-dea1-4110-a1a2-b2288dedaa24",
   "metadata": {},
   "outputs": [],
   "source": [
    "# custom dataset\n",
    "# returns sequence, categories, last time and target variable\n",
    "class Datataset_(Dataset):\n",
    "    def __init__(self, df, sequence=49, predict_len=16, seq_start=0, seq_end=1684, test=False):\n",
    "        self.df = df\n",
    "        self.df_pt = train.pivot_table(index=['store_nbr', 'city', 'state', 'type', 'cluster', 'family'],\n",
    "                                       columns=['date'], values=['sales'],\n",
    "                                       sort=False)\n",
    "        self.df_pt_prm = train.pivot_table(index=['store_nbr', 'city', 'state', 'type', 'cluster', 'family'],\n",
    "                                           columns=['date'], values=['onpromotion'],\n",
    "                                           sort=False)\n",
    "        self.sequence = sequence\n",
    "        self.predict_len = predict_len\n",
    "        self.seq_start = seq_start\n",
    "        self.seq_end =  seq_end\n",
    "        self.test = test\n",
    "        self.device = device\n",
    "        \n",
    "        self.unique = df['store_nbr'].nunique()*df['family'].nunique()\n",
    "        self.seq_len_touse = (seq_end - seq_start) - predict_len - (sequence - 1)\n",
    "        if self.test: self.seq_len_touse = (seq_end - seq_start) - (sequence - 1)\n",
    "        self.len = self.unique*self.seq_len_touse\n",
    "        self.df_pt_sales = self.df_pt[['sales']]\n",
    "        self.df_pt_prm = self.df_pt_prm[['onpromotion']]\n",
    "    \n",
    "    def __getitem__(self, index):\n",
    "        row = index//self.seq_len_touse\n",
    "        index_str = (index - row*self.seq_len_touse) + (self.seq_start)\n",
    "        index_end = (index - row*self.seq_len_touse) + (self.seq_start) + (self.sequence)\n",
    "        \n",
    "        if self.test:\n",
    "            X = self.df_pt_sales.iloc[row, index_str:index_end]\n",
    "            \n",
    "            return torch.Tensor(X.values).view(1, -1),\\\n",
    "                   torch.Tensor(X.name[1:]),\\\n",
    "                   torch.Tensor(X\\\n",
    "                        .index\\\n",
    "                        .get_level_values(1)\\\n",
    "                        .astype(np.int64)//1e9)[-1].view(1, 1)\n",
    "            \n",
    "        X, y = self.df_pt_sales.iloc[row, index_str:index_end],\\\n",
    "               self.df_pt_sales.iloc[row, index_end:index_end+self.predict_len]\n",
    "        \n",
    "        return torch.Tensor(X.values).view(1, -1),\\\n",
    "               torch.Tensor(X.name[1:]),\\\n",
    "               torch.Tensor(X\\\n",
    "                            .index\\\n",
    "                            .get_level_values(1)\\\n",
    "                            .astype(np.int64)//1e9)[-1].view(1, 1),\\\n",
    "               torch.Tensor(y)\n",
    "    \n",
    "    def __len__(self):\n",
    "        return self.len\n",
    "    \n",
    "    def __getsize__(self):\n",
    "        return (self.__len__())"
   ]
  },
  {
   "cell_type": "code",
   "execution_count": 8,
   "id": "18301d86-75cc-451b-b4b2-5c7bb868c9f5",
   "metadata": {
    "tags": []
   },
   "outputs": [],
   "source": [
    "# timevector representation\n",
    "# https://github.com/ojus1/Time2Vec-PyTorch\n",
    "def t2v(tau, f, out_features, w, b, w0, b0):\n",
    "    # k-1 periodic features\n",
    "    v1 = f(torch.matmul(tau, w) + b)\n",
    "    # One Non-periodic feature\n",
    "    v2 = torch.matmul(tau, w0) + b0\n",
    "    return torch.cat([v1, v2], dim=-1)\n",
    "\n",
    "class SineActivation(nn.Module):\n",
    "    def __init__(self, in_features, out_features):\n",
    "        super(SineActivation, self).__init__()\n",
    "        self.out_features = out_features\n",
    "        self.w0 = nn.parameter.Parameter(torch.randn(in_features, 1))\n",
    "        self.b0 = nn.parameter.Parameter(torch.randn(in_features, 1))\n",
    "        self.w = nn.parameter.Parameter(torch.randn(in_features, out_features-1))\n",
    "        self.b = nn.parameter.Parameter(torch.randn(in_features, out_features-1))\n",
    "        self.f = torch.sin\n",
    "\n",
    "    def forward(self, tau):\n",
    "        return t2v(tau, self.f, self.out_features, self.w, self.b, self.w0, self.b0)"
   ]
  },
  {
   "cell_type": "code",
   "execution_count": 9,
   "id": "080f533c-748f-4277-86af-3ef0eef58ea5",
   "metadata": {
    "tags": []
   },
   "outputs": [],
   "source": [
    "class Conv1d_and_Emb(nn.Module):\n",
    "    def __init__(self, emb_szs, n_in=49, model_out=16, n_out=16):\n",
    "        super(Conv1d_and_Emb, self).__init__()\n",
    "\n",
    "        self.embs = nn.ModuleList([nn.Embedding(i, j) for i, j in emb_szs])\n",
    "        self.bn = nn.BatchNorm1d(20)\n",
    "        self.wide_bn = nn.BatchNorm1d(144)\n",
    "        \n",
    "        # self.model = nn.Conv1d(n_in, model_out, kernel_size=1) #nn.RNN(1, hidden_size=hidden_size, batch_first=True)\n",
    "        self.conv = nn.Sequential(\n",
    "                    nn.Conv1d(1, 256, kernel_size=84, stride=1),\n",
    "                    # nn.AvgPool1d(kernel_size=7, stride=1),\n",
    "                    nn.ReLU(),\n",
    "                    nn.Conv1d(256, 512, kernel_size=28, stride=1),\n",
    "                    # nn.AvgPool1d(kernel_size=7, stride=1),\n",
    "                    nn.ReLU(),\n",
    "                    nn.Conv1d(512, 512, kernel_size=7, stride=1),\n",
    "                    nn.ReLU())\n",
    "        \n",
    "        self.sin = SineActivation(1, 16)\n",
    "        self.fc = nn.Sequential(nn.Linear(144, 64),\n",
    "                                nn.ReLU(),\n",
    "                                nn.Linear(64, n_out),\n",
    "                                nn.ReLU())\n",
    "\n",
    "    def forward(self, x, c, t):\n",
    "\n",
    "        embs = [emb(c[:, i]) for i, emb in enumerate(self.embs)]\n",
    "        embs = torch.cat(embs, dim=-1)\n",
    "        embs = self.bn(embs)\n",
    "\n",
    "        t = self.sin(t).squeeze_(dim=1)\n",
    "        # x = torch.concat([x, t], dim=1)\n",
    "        x = self.conv(x)\n",
    "        x = x.mean(dim=1).squeeze_(dim=1)\n",
    "        x = torch.concat([x, embs, t], dim=-1)\n",
    "        x = self.wide_bn(x)\n",
    "        x = self.fc(x)\n",
    "\n",
    "        return x\n",
    "    \n",
    "emb_szs = [(i, 4) for i in train[['city', 'state', 'type', 'cluster', 'family']].nunique()]\n",
    "model = Conv1d_and_Emb(emb_szs)"
   ]
  },
  {
   "cell_type": "code",
   "execution_count": 10,
   "id": "3ee4840b-168d-4164-a8bb-ccfad6ce684c",
   "metadata": {
    "tags": []
   },
   "outputs": [],
   "source": [
    "class RMSLELoss(nn.Module):\n",
    "    def __init__(self):\n",
    "        super().__init__()\n",
    "        self.mse = nn.MSELoss()\n",
    "\n",
    "    def forward(self, pred, actual):\n",
    "        return torch.sqrt(self.mse(torch.log1p(pred), torch.log1p(actual)))"
   ]
  },
  {
   "cell_type": "code",
   "execution_count": 11,
   "id": "1434167d-95e6-4b3c-8574-3b1f37d214f2",
   "metadata": {
    "tags": []
   },
   "outputs": [],
   "source": [
    "# Datasets and Consts initialization\n",
    "PREDICT_PERIOD = 16\n",
    "SEQUENCE_LEN = 224\n",
    "SEQ_LEN = 1684\n",
    "BATCH = 512\n",
    "\n",
    "dataset_train = Datataset_(train, sequence=SEQUENCE_LEN, seq_start=0, seq_end=SEQ_LEN-PREDICT_PERIOD)\n",
    "dataset_eval = Datataset_(train, sequence=SEQUENCE_LEN, seq_start=SEQ_LEN-SEQUENCE_LEN-PREDICT_PERIOD, seq_end=SEQ_LEN)\n",
    "dataset_test = Datataset_(train, sequence=SEQUENCE_LEN, seq_start=SEQ_LEN-SEQUENCE_LEN, seq_end=SEQ_LEN, test=True)\n",
    "\n",
    "trainloader = DataLoader(dataset_train, batch_size=BATCH, num_workers=16, persistent_workers= True, shuffle=True)\n",
    "evalloader = DataLoader(dataset_eval, batch_size=BATCH, num_workers=16, persistent_workers= True, shuffle=True)\n",
    "testloader = DataLoader(dataset_test, batch_size=BATCH, num_workers=16, persistent_workers= True, shuffle=False)"
   ]
  },
  {
   "cell_type": "markdown",
   "id": "229e1575-57dc-4a27-a773-7bf2c4b62584",
   "metadata": {
    "tags": []
   },
   "source": [
    "#### Baseline model and Training"
   ]
  },
  {
   "cell_type": "code",
   "execution_count": 12,
   "id": "b4fd8e60-d523-40a6-baa5-076f4f5bd1d5",
   "metadata": {},
   "outputs": [
    {
     "name": "stdout",
     "output_type": "stream",
     "text": [
      "done\n"
     ]
    }
   ],
   "source": [
    "model = nn.Sequential(\n",
    "                      nn.Conv1d(1, 1024, kernel_size=28, stride=1),\n",
    "                      nn.ReLU(),\n",
    "                      nn.Dropout(0.3),\n",
    "                      nn.Conv1d(1024, 1024, kernel_size=14, stride=1),\n",
    "                      nn.ReLU(),\n",
    "                      nn.Dropout(0.3),\n",
    "                      nn.Conv1d(1024, 32, kernel_size=7, stride=1),\n",
    "                      nn.ReLU(),\n",
    "                      nn.Dropout(0.3),\n",
    "                      nn.Flatten(),\n",
    "                      nn.Linear(2*2848, 1024*2),\n",
    "                      nn.ReLU(),\n",
    "                      nn.Dropout(0.3),                      \n",
    "                      nn.Linear(1024*2, 16),\n",
    "                      nn.ReLU())\n",
    "model.to(device)\n",
    "model.train()\n",
    "\n",
    "metric = RMSLELoss()\n",
    "optimizer = optim.Adam(model.parameters(), lr=5e-5)\n",
    "print('done')"
   ]
  },
  {
   "cell_type": "code",
   "execution_count": 13,
   "id": "687ca1ec-d6c3-4137-9b8a-c68d7712f617",
   "metadata": {
    "tags": []
   },
   "outputs": [
    {
     "data": {
      "application/vnd.jupyter.widget-view+json": {
       "model_id": "c7fba54032534657a1be204931ee1c08",
       "version_major": 2,
       "version_minor": 0
      },
      "text/plain": [
       "  0%|          | 0/4974 [00:00<?, ?it/s]"
      ]
     },
     "metadata": {},
     "output_type": "display_data"
    },
    {
     "name": "stdout",
     "output_type": "stream",
     "text": [
      "Epoch 1/3..  \n",
      " Train loss: 0.678.., \n",
      " Eval loss: 0.486\n",
      "Epoch 1/3..  \n",
      " Train loss: 0.634.., \n",
      " Eval loss: 0.473\n",
      "Epoch 1/3..  \n",
      " Train loss: 0.616.., \n",
      " Eval loss: 0.478\n",
      "Epoch 1/3..  \n",
      " Train loss: 0.605.., \n",
      " Eval loss: 0.499\n"
     ]
    },
    {
     "data": {
      "application/vnd.jupyter.widget-view+json": {
       "model_id": "c3229dbb458a47b393b865d7a91f711c",
       "version_major": 2,
       "version_minor": 0
      },
      "text/plain": [
       "  0%|          | 0/4974 [00:00<?, ?it/s]"
      ]
     },
     "metadata": {},
     "output_type": "display_data"
    },
    {
     "name": "stdout",
     "output_type": "stream",
     "text": [
      "Epoch 2/3..  \n",
      " Train loss: 0.564.., \n",
      " Eval loss: 0.484\n",
      "Epoch 2/3..  \n",
      " Train loss: 0.561.., \n",
      " Eval loss: 0.491\n",
      "Epoch 2/3..  \n",
      " Train loss: 0.559.., \n",
      " Eval loss: 0.484\n",
      "Epoch 2/3..  \n",
      " Train loss: 0.558.., \n",
      " Eval loss: 0.472\n"
     ]
    },
    {
     "data": {
      "application/vnd.jupyter.widget-view+json": {
       "model_id": "c3c744417ac04c149975141e3d629935",
       "version_major": 2,
       "version_minor": 0
      },
      "text/plain": [
       "  0%|          | 0/4974 [00:00<?, ?it/s]"
      ]
     },
     "metadata": {},
     "output_type": "display_data"
    },
    {
     "name": "stdout",
     "output_type": "stream",
     "text": [
      "Epoch 3/3..  \n",
      " Train loss: 0.546.., \n",
      " Eval loss: 0.467\n",
      "Epoch 3/3..  \n",
      " Train loss: 0.546.., \n",
      " Eval loss: 0.469\n",
      "Epoch 3/3..  \n",
      " Train loss: 0.546.., \n",
      " Eval loss: 0.485\n",
      "Epoch 3/3..  \n",
      " Train loss: 0.545.., \n",
      " Eval loss: 0.477\n"
     ]
    }
   ],
   "source": [
    "# %%time\n",
    "epochs = 3\n",
    "running_loss = 0\n",
    "print_every = len(trainloader)//4\n",
    "\n",
    "for epoch in range(epochs):\n",
    "    counter = 0\n",
    "    for X, C, T, y in tqdm(trainloader):\n",
    "        X, C, T, y = X.to(device), C.to(device).to(torch.int), T.to(device), y.to(device)\n",
    "\n",
    "        optimizer.zero_grad()\n",
    "        preds = model.forward(X)\n",
    "        loss = metric(preds, y)#    loss = metric(preds.mean(1).squeeze(1), y)\n",
    "        loss.backward()\n",
    "        optimizer.step()\n",
    "        running_loss += loss.item()\n",
    "\n",
    "        if (counter!=0) and (counter % print_every == 0):\n",
    "            eval_loss = 0\n",
    "            model.eval()\n",
    "            with torch.no_grad():\n",
    "                for X, C, T, y in evalloader:\n",
    "                    X, C, T, y = X.to(device), C.to(device).to(torch.int), T.to(device), y.to(device)\n",
    "\n",
    "                    preds = model.forward(X)\n",
    "                    batch_loss = metric(preds, y)\n",
    "                    eval_loss += batch_loss.item()\n",
    "\n",
    "            print(f\"Epoch {epoch+1}/{epochs}.. \", '\\n',\n",
    "                  f\"Train loss: {running_loss/(counter+1):.3f}..,\", '\\n',\n",
    "                  f'Eval loss: {eval_loss/len(evalloader):.3f}')\n",
    "\n",
    "            model.train()\n",
    "        counter +=1\n",
    "    running_loss = 0"
   ]
  },
  {
   "cell_type": "markdown",
   "id": "6f3506f8-daab-42ad-b6b7-1b6452936e85",
   "metadata": {
    "jp-MarkdownHeadingCollapsed": true,
    "tags": []
   },
   "source": [
    "#### Submission"
   ]
  },
  {
   "cell_type": "code",
   "execution_count": 14,
   "id": "afb37db2-0066-41e7-913a-f4200e36be72",
   "metadata": {},
   "outputs": [],
   "source": [
    "submission = pd.read_csv('sample_submission.csv')\n",
    "model.eval()\n",
    "sub_preds = None\n",
    "\n",
    "with torch.no_grad():\n",
    "    for X, C, T in testloader:\n",
    "        X, C, T = X.to(device), C.to(device).to(torch.int), T.to(device)\n",
    "        preds = model.forward(X)\n",
    "        if isinstance(sub_preds, np.ndarray):\n",
    "            sub_preds = np.concatenate([sub_preds, preds.cpu().numpy()], axis=0)\n",
    "        else:\n",
    "            sub_preds = preds.cpu().numpy()"
   ]
  },
  {
   "cell_type": "code",
   "execution_count": 15,
   "id": "83fadc7e-780c-484b-a127-b514a49392ed",
   "metadata": {},
   "outputs": [],
   "source": [
    "submission[['sales']] = sub_preds.reshape(-1, 1, order='F')\n",
    "submission.to_csv(\"submission.csv\", index=False)"
   ]
  }
 ],
 "metadata": {
  "kernelspec": {
   "display_name": "Python 3 (ipykernel)",
   "language": "python",
   "name": "python3"
  },
  "language_info": {
   "codemirror_mode": {
    "name": "ipython",
    "version": 3
   },
   "file_extension": ".py",
   "mimetype": "text/x-python",
   "name": "python",
   "nbconvert_exporter": "python",
   "pygments_lexer": "ipython3",
   "version": "3.9.13"
  }
 },
 "nbformat": 4,
 "nbformat_minor": 5
}
